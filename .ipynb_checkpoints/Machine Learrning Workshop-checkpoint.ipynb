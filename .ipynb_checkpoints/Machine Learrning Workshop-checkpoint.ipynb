{
 "cells": [
  {
   "cell_type": "markdown",
   "metadata": {},
   "source": [
    "# Machine Learning Workshop\n",
    "\n",
    "Machine Learning is a technique to make the computer programs that are capable of learning. There are three important categories of algorithms under Machine Learning:\n",
    "\n",
    "* Supervised Learning\n",
    "* Unsupervised Learning\n",
    "* Reinforcement Learning\n",
    "\n",
    "We will cover in this workshop some examples of supervised learning algorithms and unsupervised learning algorithms."
   ]
  },
  {
   "cell_type": "markdown",
   "metadata": {},
   "source": [
    "## Supervised Learning\n",
    "### Neural Network\n",
    "\n",
    "Neural networks are capable of aproximating function very well. However, in order to make good predictions they need to be trained.\n",
    "\n",
    "We will try to build a model that detects hand written digits from some image. We will use the data made available [here](http://yann.lecun.com/exdb/mnist/). You don't need to worry about downloading the files from that link, they were already included next to this document. Just by calling the function *mnist_loader.load_data()* you can retrieve the data.\n",
    "\n"
   ]
  },
  {
   "cell_type": "code",
   "execution_count": 1,
   "metadata": {},
   "outputs": [],
   "source": [
    "import mnist_loader\n",
    "\n",
    "training_data, validation_data, test_data = mnist_loader.load_data()"
   ]
  },
  {
   "cell_type": "markdown",
   "metadata": {},
   "source": [
    "The function returns three data sets: one for training, one for validation and one for test. This is a common practice in training models. The data is usually splitted in two parts: the first one is used for training and the second one for testing. We do this because we want to see how well the trained model behaves on unseen data.\n",
    "\n",
    "Here the data is splitted in three parts: training, validation and test. The training data is used to train the model, the validation data is used to test multiple configurations of parameters (number of hidden layers, dfferent types of activation functions) and the test data is used to test only the final model.\n",
    "\n",
    "Now, let's visualize and understand the data."
   ]
  },
  {
   "cell_type": "code",
   "execution_count": 7,
   "metadata": {},
   "outputs": [
    {
     "name": "stdout",
     "output_type": "stream",
     "text": [
      "(array([[0., 0., 0., ..., 0., 0., 0.],\n",
      "       [0., 0., 0., ..., 0., 0., 0.],\n",
      "       [0., 0., 0., ..., 0., 0., 0.],\n",
      "       ...,\n",
      "       [0., 0., 0., ..., 0., 0., 0.],\n",
      "       [0., 0., 0., ..., 0., 0., 0.],\n",
      "       [0., 0., 0., ..., 0., 0., 0.]], dtype=float32), array([5, 0, 4, ..., 8, 4, 8]))\n"
     ]
    },
    {
     "data": {
      "image/png": "[encoded data removed]",
      "text/plain": [
       "<Figure size 432x288 with 1 Axes>"
      ]
     },
     "metadata": {
      "needs_background": "light"
     },
     "output_type": "display_data"
    }
   ],
   "source": [
    "import numpy as np\n",
    "import matplotlib.pyplot as plt\n",
    "\n",
    "print(training_data)\n",
    "\n",
    "def displayDigit(data):\n",
    "    X = data\n",
    "    X = X.reshape((28, 28))\n",
    "    plt.imshow(X, cmap=\"gray\")\n",
    "    plt.show()\n",
    "\n",
    "displayDigit(training_data[0][0])"
   ]
  },
  {
   "cell_type": "markdown",
   "metadata": {},
   "source": [
    "The *training_data* array is a tuple with two values:\n",
    "\n",
    "1. An array of images. Each image is an array with 28 x 28 values between 0 and 1 representing the color of the pixels.\n",
    "2. An array that contains the actual numbers that are represented in the images.\n",
    "\n",
    "In order to get, for example, the pixel values of the 5th image, we have to index it like this: training_data[0][5]. First we take the array of images and in this array we go to the 5th position.\n",
    "\n",
    "Once we understood how the data is structured, let's move forward and start training a neural network that detects digits in these images.\n",
    "\n",
    "For this we will use the [SciKit learn library](https://scikit-learn.org/stable/).\n",
    "\n",
    "From this library we use the [MLPClassifier](https://scikit-learn.org/stable/modules/generated/sklearn.neural_network.MLPClassifier.html) which is the neural network implementation for classifiction problems.\n",
    "\n",
    "The neural network has a lot of parameters that can be adjusted in order to make better predictions.\n",
    "* hidden_layer_sizes is the number of units in each hidden layers. For example, hidden_layer_sizes=(10, 5, 6) is a neural network with 3 hidden layers: the frst one with 10 neurons, the second one with 5 neurons and the last one with 6 neurons.\n",
    "* The activation function is the function that decides if and how the neuron activates.\n",
    "\n",
    "In order to train the network, the fit method is called and it receives two parameters. The first one is the an array with data and the second one an array with what values the output should have."
   ]
  },
  {
   "cell_type": "code",
   "execution_count": 8,
   "metadata": {},
   "outputs": [
    {
     "name": "stdout",
     "output_type": "stream",
     "text": [
      "Training started...\n",
      "Training done...\n"
     ]
    }
   ],
   "source": [
    "from sklearn.neural_network import MLPClassifier as NeuralNetwork\n",
    "\n",
    "print(\"Training started...\")\n",
    "\n",
    "# Create the network.\n",
    "network = NeuralNetwork(hidden_layer_sizes=(10,), activation='tanh', solver='lbfgs', max_iter=100)\n",
    "\n",
    "# We train the network using the training data.\n",
    "network.fit(training_data[0], training_data[1])\n",
    "\n",
    "print(\"Training done...\")"
   ]
  },
  {
   "cell_type": "code",
   "execution_count": 6,
   "metadata": {},
   "outputs": [
    {
     "name": "stdout",
     "output_type": "stream",
     "text": [
      "(28, 28)\n"
     ]
    },
    {
     "data": {
      "image/png": "[encoded data removed]",
      "text/plain": [
       "<Figure size 432x288 with 1 Axes>"
      ]
     },
     "metadata": {
      "needs_background": "light"
     },
     "output_type": "display_data"
    },
    {
     "name": "stdout",
     "output_type": "stream",
     "text": [
      "[2]\n",
      "(28, 28)\n"
     ]
    },
    {
     "data": {
      "image/png": "[encoded data removed]",
      "text/plain": [
       "<Figure size 432x288 with 1 Axes>"
      ]
     },
     "metadata": {
      "needs_background": "light"
     },
     "output_type": "display_data"
    },
    {
     "name": "stdout",
     "output_type": "stream",
     "text": [
      "[1]\n",
      "(28, 28)\n"
     ]
    },
    {
     "data": {
      "image/png": "[encoded data removed]",
      "text/plain": [
       "<Figure size 432x288 with 1 Axes>"
      ]
     },
     "metadata": {
      "needs_background": "light"
     },
     "output_type": "display_data"
    },
    {
     "name": "stdout",
     "output_type": "stream",
     "text": [
      "[0]\n",
      "(28, 28)\n"
     ]
    },
    {
     "data": {
      "image/png": "[encoded data removed]",
      "text/plain": [
       "<Figure size 432x288 with 1 Axes>"
      ]
     },
     "metadata": {
      "needs_background": "light"
     },
     "output_type": "display_data"
    },
    {
     "name": "stdout",
     "output_type": "stream",
     "text": [
      "[4]\n",
      "(28, 28)\n"
     ]
    },
    {
     "data": {
      "image/png": "[encoded data removed]",
      "text/plain": [
       "<Figure size 432x288 with 1 Axes>"
      ]
     },
     "metadata": {
      "needs_background": "light"
     },
     "output_type": "display_data"
    },
    {
     "name": "stdout",
     "output_type": "stream",
     "text": [
      "[1]\n",
      "(28, 28)\n"
     ]
    },
    {
     "data": {
      "image/png": "[encoded data removed]",
      "text/plain": [
       "<Figure size 432x288 with 1 Axes>"
      ]
     },
     "metadata": {
      "needs_background": "light"
     },
     "output_type": "display_data"
    },
    {
     "name": "stdout",
     "output_type": "stream",
     "text": [
      "[4]\n",
      "(28, 28)\n"
     ]
    },
    {
     "data": {
      "image/png": "[encoded data removed]",
      "text/plain": [
       "<Figure size 432x288 with 1 Axes>"
      ]
     },
     "metadata": {
      "needs_background": "light"
     },
     "output_type": "display_data"
    },
    {
     "name": "stdout",
     "output_type": "stream",
     "text": [
      "[9]\n",
      "(28, 28)\n"
     ]
    },
    {
     "data": {
      "image/png": "[encoded data removed]",
      "text/plain": [
       "<Figure size 432x288 with 1 Axes>"
      ]
     },
     "metadata": {
      "needs_background": "light"
     },
     "output_type": "display_data"
    },
    {
     "name": "stdout",
     "output_type": "stream",
     "text": [
      "[6]\n",
      "(28, 28)\n"
     ]
    },
    {
     "data": {
      "image/png": "[encoded data removed]",
      "text/plain": [
       "<Figure size 432x288 with 1 Axes>"
      ]
     },
     "metadata": {
      "needs_background": "light"
     },
     "output_type": "display_data"
    },
    {
     "name": "stdout",
     "output_type": "stream",
     "text": [
      "[9]\n"
     ]
    }
   ],
   "source": [
    "for i in range(1, 10):\n",
    "    displayDigit(test_data[0][i])\n",
    "\n",
    "    print(network.predict([test_data[0][i]]))"
   ]
  },
  {
   "cell_type": "markdown",
   "metadata": {},
   "source": [
    "## Unsupervised learning\n",
    "\n",
    "In unsupervised learning, the data does not contain the correct output. Unsupervised learning is more focused on finding clusters in data.\n",
    "\n",
    "### K Clustering"
   ]
  },
  {
   "cell_type": "code",
   "execution_count": 45,
   "metadata": {},
   "outputs": [
    {
     "name": "stdout",
     "output_type": "stream",
     "text": [
      "[[ 1.16014257e+03 -2.93917544e+02  4.85783976e+01 ...  1.29334919e-03\n",
      "   1.98910417e-03  7.04378359e-04]\n",
      " [ 1.26912244e+03  1.56301818e+01 -3.53945342e+01 ... -1.34685217e-03\n",
      "   6.85925212e-04 -1.06125086e-03]\n",
      " [ 9.95793889e+02  3.91567432e+01 -1.70975298e+00 ...  1.84867758e-05\n",
      "  -7.75218581e-04  4.05360270e-04]\n",
      " ...\n",
      " [ 3.14501756e+02  4.75535252e+01 -1.04424072e+01 ...  2.54369638e-05\n",
      "   4.83858890e-04 -2.85342703e-04]\n",
      " [ 1.12485812e+03  3.41292250e+01 -1.97420874e+01 ...  1.23547951e-03\n",
      "  -8.08728730e-04  1.21655195e-03]\n",
      " [-7.71527622e+02 -8.86431064e+01  2.38890319e+01 ... -4.44552928e-03\n",
      "   2.42876427e-04  1.46800350e-03]]\n"
     ]
    },
    {
     "data": {
      "text/plain": [
       "<matplotlib.collections.PathCollection at 0x7fd058c907f0>"
      ]
     },
     "execution_count": 45,
     "metadata": {},
     "output_type": "execute_result"
    },
    {
     "data": {
      "image/png": "[encoded data removed]",
      "text/plain": [
       "<Figure size 432x288 with 1 Axes>"
      ]
     },
     "metadata": {
      "needs_background": "light"
     },
     "output_type": "display_data"
    }
   ],
   "source": [
    "from sklearn.datasets import load_breast_cancer\n",
    "import matplotlib.pylab as pl\n",
    "from sklearn.decomposition import PCA\n",
    "\n",
    "data = load_breast_cancer()\n",
    "\n",
    "\n",
    "\n",
    "pca = PCA()\n",
    "X = pca.fit(data.data).transform(data.data)  #only get features, ignore classes\n",
    "print(X)\n",
    "\n",
    "cols = ['r','g','b']\n",
    "#plot\n",
    "# pl.scatter(X[:,3],X[:,0])\n",
    "pl.scatter(X[data.target==0,0],X[data.target==0,14],color=cols[0])\n",
    "pl.scatter(X[data.target==1,0],X[data.target==1,14],color=cols[1])"
   ]
  },
  {
   "cell_type": "code",
   "execution_count": null,
   "metadata": {},
   "outputs": [],
   "source": []
  }
 ],
 "metadata": {
  "kernelspec": {
   "display_name": "Python 3",
   "language": "python",
   "name": "python3"
  },
  "language_info": {
   "codemirror_mode": {
    "name": "ipython",
    "version": 3
   },
   "file_extension": ".py",
   "mimetype": "text/x-python",
   "name": "python",
   "nbconvert_exporter": "python",
   "pygments_lexer": "ipython3",
   "version": "3.7.3"
  }
 },
 "nbformat": 4,
 "nbformat_minor": 2
}
